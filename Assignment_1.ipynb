{
 "cells": [
  {
   "cell_type": "code",
   "execution_count": 1,
   "metadata": {},
   "outputs": [
    {
     "name": "stdout",
     "output_type": "stream",
     "text": [
      "Twinkle, twinkle, little star,\n",
      "\tHow I wonder what you are!\n",
      "\t\tUp above the world so high,\n",
      "\t\tLike a diamond in the sky.\n",
      "Twinkle, twinkle, little star,\n",
      "\tHow I wonder what you are\n"
     ]
    }
   ],
   "source": [
    "print(\"Twinkle, twinkle, little star,\\n\\tHow I wonder what you are!\\n\\t\\tUp above the world so high,\\n\\t\\tLike a diamond in the sky.\")\n",
    "print(\"Twinkle, twinkle, little star,\\n\\tHow I wonder what you are\")"
   ]
  },
  {
   "cell_type": "code",
   "execution_count": 3,
   "metadata": {},
   "outputs": [
    {
     "name": "stdout",
     "output_type": "stream",
     "text": [
      "Python version 3.7.3 (default, Mar 27 2019, 17:13:21) [MSC v.1915 64 bit (AMD64)]\n"
     ]
    }
   ],
   "source": [
    "import sys\n",
    "print (\"Python version\",sys.version)\n"
   ]
  },
  {
   "cell_type": "code",
   "execution_count": 10,
   "metadata": {},
   "outputs": [
    {
     "name": "stdout",
     "output_type": "stream",
     "text": [
      "now = 2019-11-06 22:07:26.610364\n",
      "date and time = 06/11/2019 22:07:26\n"
     ]
    }
   ],
   "source": [
    "from datetime import datetime\n",
    "pres = datetime. now()\n",
    "print(\"now =\", pres)\n",
    "# dd/mm/YY H:M:S.\n",
    "date_string = pres.strftime(\"%d/%m/%Y %H:%M:%S\")\n",
    "print(\"date and time =\", date_string)\n"
   ]
  },
  {
   "cell_type": "code",
   "execution_count": 6,
   "metadata": {},
   "outputs": [
    {
     "name": "stdout",
     "output_type": "stream",
     "text": [
      "Input Radius of a circle: 4\n",
      "50.272\n"
     ]
    }
   ],
   "source": [
    "rad = int(input(\"Input Radius of a circle: \"))\n",
    "area = 3.142 * (rad**2)\n",
    "print(area)"
   ]
  },
  {
   "cell_type": "code",
   "execution_count": 7,
   "metadata": {},
   "outputs": [
    {
     "name": "stdout",
     "output_type": "stream",
     "text": [
      "Input Your First Name: Mahad\n",
      "Input Your Last Name: Khan\n",
      "dahaM nahK\n"
     ]
    }
   ],
   "source": [
    "f_name = input(\"Input Your First Name: \")\n",
    "l_name = input(\"Input Your Last Name: \")\n",
    "rev1 = f_name[::-1]\n",
    "rev2 = l_name[::-1]\n",
    "print(rev1+\" \"+rev2)\n"
   ]
  },
  {
   "cell_type": "code",
   "execution_count": 8,
   "metadata": {},
   "outputs": [
    {
     "name": "stdout",
     "output_type": "stream",
     "text": [
      "Input Number1: 3\n",
      "Input Number2: 5\n",
      "Sum of inputs:  8\n"
     ]
    }
   ],
   "source": [
    "num1 = int(input(\"Input Number1: \"))\n",
    "num2 = int(input(\"Input Number2: \"))\n",
    "print(\"Sum of inputs: \",num1+num2)"
   ]
  },
  {
   "cell_type": "code",
   "execution_count": null,
   "metadata": {},
   "outputs": [],
   "source": []
  }
 ],
 "metadata": {
  "kernelspec": {
   "display_name": "Python 3",
   "language": "python",
   "name": "python3"
  },
  "language_info": {
   "codemirror_mode": {
    "name": "ipython",
    "version": 3
   },
   "file_extension": ".py",
   "mimetype": "text/x-python",
   "name": "python",
   "nbconvert_exporter": "python",
   "pygments_lexer": "ipython3",
   "version": "3.7.3"
  }
 },
 "nbformat": 4,
 "nbformat_minor": 2
}
